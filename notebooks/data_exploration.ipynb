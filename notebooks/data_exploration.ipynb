{
 "cells": [
  {
   "cell_type": "code",
   "execution_count": null,
   "id": "02d3c1e6",
   "metadata": {},
   "outputs": [],
   "source": [
    "import sys\n",
    "import os\n",
    "sys.path.append(os.path.abspath(\"../utils\"))\n",
    "\n",
    "from preprocessing import load_dataset, preprocess_corpus, vectorize_corpus\n",
    "import pandas as pd\n",
    "import matplotlib.pyplot as plt\n",
    "import seaborn as sns\n",
    "\n",
    "# Categories to load\n",
    "categories = [\n",
    "    'comp.graphics',\n",
    "    'rec.sport.baseball',\n",
    "    'sci.med',\n",
    "    'talk.politics.misc'\n",
    "]\n",
    "\n",
    "# Load raw data\n",
    "data = load_dataset(categories, limit_per_category=300)\n",
    "raw_texts = data['data']\n",
    "labels = data['target']\n",
    "label_names = data['target_names']\n",
    "\n",
    "print(\"✅ Loaded\", len(raw_texts), \"samples\")\n",
    "\n",
    "# Preprocess text\n",
    "cleaned_texts = preprocess_corpus(raw_texts)\n",
    "\n",
    "# Vectorize\n",
    "X, vectorizer = vectorize_corpus(cleaned_texts, max_features=3000)\n",
    "\n",
    "print(\"✅ Vectorized text into shape:\", X.shape)\n",
    "\n",
    "# Save category info\n",
    "with open('../data/categories_used.txt', 'w') as f:\n",
    "    for cat in categories:\n",
    "        f.write(cat + '\\n')\n",
    "\n",
    "# View category counts\n",
    "df = pd.DataFrame({'text': cleaned_texts, 'label': labels})\n",
    "df['label_name'] = df['label'].apply(lambda x: label_names[x])\n",
    "category_counts = df['label_name'].value_counts()\n",
    "\n",
    "# 📊 Visualize\n",
    "plt.figure(figsize=(8, 5))\n",
    "sns.barplot(x=category_counts.index, y=category_counts.values)\n",
    "plt.title(\"Sample Count per Category\")\n",
    "plt.xlabel(\"Category\")\n",
    "plt.ylabel(\"Count\")\n",
    "plt.xticks(rotation=30)\n",
    "plt.grid(True)\n",
    "plt.tight_layout()\n",
    "plt.show()\n"
   ]
  }
 ],
 "metadata": {
  "kernelspec": {
   "display_name": "3.10.13",
   "language": "python",
   "name": "python3"
  },
  "language_info": {
   "name": "python",
   "version": "3.10.13"
  }
 },
 "nbformat": 4,
 "nbformat_minor": 5
}
